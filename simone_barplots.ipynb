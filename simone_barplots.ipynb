{
 "cells": [
  {
   "cell_type": "code",
   "execution_count": 6,
   "metadata": {
    "ExecuteTime": {
     "end_time": "2020-04-06T20:58:47.907464Z",
     "start_time": "2020-04-06T20:58:47.045847Z"
    }
   },
   "outputs": [],
   "source": [
    "import pandas as pd\n",
    "import seaborn as sns"
   ]
  },
  {
   "cell_type": "code",
   "execution_count": 8,
   "metadata": {
    "ExecuteTime": {
     "end_time": "2020-04-06T20:59:00.239784Z",
     "start_time": "2020-04-06T20:59:00.215916Z"
    }
   },
   "outputs": [
    {
     "data": {
      "text/html": [
       "<div>\n",
       "<style scoped>\n",
       "    .dataframe tbody tr th:only-of-type {\n",
       "        vertical-align: middle;\n",
       "    }\n",
       "\n",
       "    .dataframe tbody tr th {\n",
       "        vertical-align: top;\n",
       "    }\n",
       "\n",
       "    .dataframe thead th {\n",
       "        text-align: right;\n",
       "    }\n",
       "</style>\n",
       "<table border=\"1\" class=\"dataframe\">\n",
       "  <thead>\n",
       "    <tr style=\"text-align: right;\">\n",
       "      <th></th>\n",
       "      <th>State</th>\n",
       "      <th>gte1_Tdap_pct</th>\n",
       "      <th>gte1_MenACWY</th>\n",
       "      <th>gte1_HPV_fem</th>\n",
       "      <th>gte2_HPV_fem</th>\n",
       "      <th>gte3_HPV_fem</th>\n",
       "      <th>gte1_HPV_m</th>\n",
       "      <th>gte2_HPV_m</th>\n",
       "      <th>gte3_HPV_m</th>\n",
       "      <th>gte1_Tdap_pct_err</th>\n",
       "      <th>gte1_MenACWY_err</th>\n",
       "      <th>gte1_HPV_fem_err</th>\n",
       "      <th>gte2_HPV_fem_err</th>\n",
       "      <th>gte3_HPV_fem_err</th>\n",
       "      <th>gte1_HPV_m_err</th>\n",
       "      <th>gte2_HPV_m_err</th>\n",
       "      <th>gte3_HPV_m_err</th>\n",
       "    </tr>\n",
       "  </thead>\n",
       "  <tbody>\n",
       "    <tr>\n",
       "      <th>0</th>\n",
       "      <td>Connecticut</td>\n",
       "      <td>93.7</td>\n",
       "      <td>93.5</td>\n",
       "      <td>70.9</td>\n",
       "      <td>64.3</td>\n",
       "      <td>55.2</td>\n",
       "      <td>65.3</td>\n",
       "      <td>58.2</td>\n",
       "      <td>42.0</td>\n",
       "      <td>3.0</td>\n",
       "      <td>3.1</td>\n",
       "      <td>8.2</td>\n",
       "      <td>8.7</td>\n",
       "      <td>9.1</td>\n",
       "      <td>7.8</td>\n",
       "      <td>8.1</td>\n",
       "      <td>8.3</td>\n",
       "    </tr>\n",
       "    <tr>\n",
       "      <th>1</th>\n",
       "      <td>Maine</td>\n",
       "      <td>87.7</td>\n",
       "      <td>77.7</td>\n",
       "      <td>66.0</td>\n",
       "      <td>53.9</td>\n",
       "      <td>44.1</td>\n",
       "      <td>65.8</td>\n",
       "      <td>58.7</td>\n",
       "      <td>46.7</td>\n",
       "      <td>4.0</td>\n",
       "      <td>5.3</td>\n",
       "      <td>8.3</td>\n",
       "      <td>8.7</td>\n",
       "      <td>8.6</td>\n",
       "      <td>7.9</td>\n",
       "      <td>8.3</td>\n",
       "      <td>8.4</td>\n",
       "    </tr>\n",
       "    <tr>\n",
       "      <th>2</th>\n",
       "      <td>Massachusetts</td>\n",
       "      <td>91.2</td>\n",
       "      <td>89.5</td>\n",
       "      <td>73.5</td>\n",
       "      <td>63.0</td>\n",
       "      <td>52.8</td>\n",
       "      <td>63.0</td>\n",
       "      <td>50.9</td>\n",
       "      <td>35.2</td>\n",
       "      <td>4.1</td>\n",
       "      <td>4.4</td>\n",
       "      <td>8.6</td>\n",
       "      <td>9.5</td>\n",
       "      <td>9.7</td>\n",
       "      <td>8.8</td>\n",
       "      <td>9.1</td>\n",
       "      <td>8.5</td>\n",
       "    </tr>\n",
       "    <tr>\n",
       "      <th>3</th>\n",
       "      <td>New Hampshire</td>\n",
       "      <td>92.4</td>\n",
       "      <td>87.7</td>\n",
       "      <td>74.2</td>\n",
       "      <td>59.7</td>\n",
       "      <td>51.4</td>\n",
       "      <td>69.8</td>\n",
       "      <td>55.1</td>\n",
       "      <td>47.1</td>\n",
       "      <td>3.9</td>\n",
       "      <td>4.4</td>\n",
       "      <td>8.8</td>\n",
       "      <td>10.0</td>\n",
       "      <td>10.0</td>\n",
       "      <td>7.9</td>\n",
       "      <td>9.0</td>\n",
       "      <td>9.1</td>\n",
       "    </tr>\n",
       "    <tr>\n",
       "      <th>4</th>\n",
       "      <td>Rhode Island</td>\n",
       "      <td>97.1</td>\n",
       "      <td>97.7</td>\n",
       "      <td>87.9</td>\n",
       "      <td>77.9</td>\n",
       "      <td>68.0</td>\n",
       "      <td>80.6</td>\n",
       "      <td>66.6</td>\n",
       "      <td>58.1</td>\n",
       "      <td>1.6</td>\n",
       "      <td>1.5</td>\n",
       "      <td>4.9</td>\n",
       "      <td>6.7</td>\n",
       "      <td>7.4</td>\n",
       "      <td>5.8</td>\n",
       "      <td>7.1</td>\n",
       "      <td>7.4</td>\n",
       "    </tr>\n",
       "  </tbody>\n",
       "</table>\n",
       "</div>"
      ],
      "text/plain": [
       "           State  gte1_Tdap_pct  gte1_MenACWY  gte1_HPV_fem  gte2_HPV_fem  \\\n",
       "0    Connecticut           93.7          93.5          70.9          64.3   \n",
       "1          Maine           87.7          77.7          66.0          53.9   \n",
       "2  Massachusetts           91.2          89.5          73.5          63.0   \n",
       "3  New Hampshire           92.4          87.7          74.2          59.7   \n",
       "4   Rhode Island           97.1          97.7          87.9          77.9   \n",
       "\n",
       "   gte3_HPV_fem  gte1_HPV_m  gte2_HPV_m  gte3_HPV_m  gte1_Tdap_pct_err  \\\n",
       "0          55.2        65.3        58.2        42.0                3.0   \n",
       "1          44.1        65.8        58.7        46.7                4.0   \n",
       "2          52.8        63.0        50.9        35.2                4.1   \n",
       "3          51.4        69.8        55.1        47.1                3.9   \n",
       "4          68.0        80.6        66.6        58.1                1.6   \n",
       "\n",
       "   gte1_MenACWY_err  gte1_HPV_fem_err  gte2_HPV_fem_err  gte3_HPV_fem_err  \\\n",
       "0               3.1               8.2               8.7               9.1   \n",
       "1               5.3               8.3               8.7               8.6   \n",
       "2               4.4               8.6               9.5               9.7   \n",
       "3               4.4               8.8              10.0              10.0   \n",
       "4               1.5               4.9               6.7               7.4   \n",
       "\n",
       "   gte1_HPV_m_err  gte2_HPV_m_err  gte3_HPV_m_err  \n",
       "0             7.8             8.1             8.3  \n",
       "1             7.9             8.3             8.4  \n",
       "2             8.8             9.1             8.5  \n",
       "3             7.9             9.0             9.1  \n",
       "4             5.8             7.1             7.4  "
      ]
     },
     "execution_count": 8,
     "metadata": {},
     "output_type": "execute_result"
    }
   ],
   "source": [
    "df =pd.read_csv('hpv_clean_w_err.csv', index_col=0)\n",
    "df.columns = ['State', *df.columns[1:]]\n",
    "df.head()"
   ]
  },
  {
   "cell_type": "code",
   "execution_count": 78,
   "metadata": {
    "ExecuteTime": {
     "end_time": "2020-04-06T18:26:47.499122Z",
     "start_time": "2020-04-06T18:26:46.645000Z"
    }
   },
   "outputs": [
    {
     "data": {
      "text/plain": [
       "<matplotlib.axes._subplots.AxesSubplot at 0x7fdd29c49190>"
      ]
     },
     "execution_count": 78,
     "metadata": {},
     "output_type": "execute_result"
    },
    {
     "data": {
      "image/png": "[encoded data removed]",
      "text/plain": [
       "<Figure size 432x288 with 1 Axes>"
      ]
     },
     "metadata": {
      "needs_background": "light"
     },
     "output_type": "display_data"
    }
   ],
   "source": [
    "df.iloc[:,3:9].plot.bar()"
   ]
  },
  {
   "cell_type": "code",
   "execution_count": 79,
   "metadata": {
    "ExecuteTime": {
     "end_time": "2020-04-06T18:29:36.825059Z",
     "start_time": "2020-04-06T18:29:36.688989Z"
    }
   },
   "outputs": [],
   "source": [
    "values = df.melt(id_vars='State', value_vars=[*df.columns[3:9]], value_name='proportion')\n",
    "vidx = pd.MultiIndex.from_tuples(list(zip(values.State, values.variable)))\n",
    "values = pd.DataFrame(values.set_index(vidx)['proportion'])\n",
    "#values = pd.DataFrame(values.proportion, index=vidx)\n",
    "errors = df.melt(id_vars='State', value_vars=[*df.columns[11:]], value_name='error')\n",
    "eidx = pd.MultiIndex.from_tuples(list(zip(errors.State, errors.variable))) \n",
    "errors = pd.DataFrame(errors.set_index(eidx)['error'])\n",
    "errors.index = [(a, \"_\".join(b.split('_')[:3])) for a,b in errors.index]\n",
    "#values\n",
    "values['error'] = [errors.T[i].error for i in values.index]\n",
    "values['State'] = [a for a,b in values.index]\n",
    "values['vaccine'] = [b for a,b in values.index]\n",
    "values['sex'] = [b.split('_')[-1] for b in values.vaccine]\n",
    "values.loc[:,['State', 'vaccine', 'proportion', 'error']].to_csv('hpv_melt.csv', index=False)"
   ]
  },
  {
   "cell_type": "code",
   "execution_count": 36,
   "metadata": {
    "ExecuteTime": {
     "end_time": "2020-04-06T17:49:35.031365Z",
     "start_time": "2020-04-06T17:49:35.027240Z"
    }
   },
   "outputs": [
    {
     "data": {
      "text/plain": [
       "324"
      ]
     },
     "execution_count": 36,
     "metadata": {},
     "output_type": "execute_result"
    }
   ],
   "source": [
    "len(set([*values.index, *errors.index]))"
   ]
  },
  {
   "cell_type": "code",
   "execution_count": 77,
   "metadata": {
    "ExecuteTime": {
     "end_time": "2020-04-06T18:25:58.645960Z",
     "start_time": "2020-04-06T18:25:58.342472Z"
    }
   },
   "outputs": [
    {
     "data": {
      "text/plain": [
       "<matplotlib.axes._subplots.AxesSubplot at 0x7fdcab223050>"
      ]
     },
     "execution_count": 77,
     "metadata": {},
     "output_type": "execute_result"
    },
    {
     "data": {
      "image/png": "[encoded data removed]",
      "text/plain": [
       "<Figure size 432x288 with 1 Axes>"
      ]
     },
     "metadata": {
      "needs_background": "light"
     },
     "output_type": "display_data"
    }
   ],
   "source": [
    "sns.barplot(x=values.vaccine, y=values.proportion)"
   ]
  },
  {
   "cell_type": "code",
   "execution_count": 67,
   "metadata": {
    "ExecuteTime": {
     "end_time": "2020-04-06T18:16:16.478872Z",
     "start_time": "2020-04-06T18:16:16.471111Z"
    }
   },
   "outputs": [],
   "source": [
    "# Reference: https://stackoverflow.com/questions/42017049/seaborn-how-to-add-error-bars-on-a-grouped-barplot\n",
    "\n",
    "import matplotlib.pyplot as plt\n",
    "import seaborn as sns\n",
    "import numpy as np\n",
    "import pandas as pd\n",
    "\n",
    "def grouped_barplot(df, cat,subcat, val , err):\n",
    "    u = df[cat].unique()\n",
    "    x = np.arange(len(u))\n",
    "    subx = df[subcat].unique()\n",
    "    offsets = (np.arange(len(subx))-np.arange(len(subx)).mean())/(len(subx)+1.)\n",
    "    width= np.diff(offsets).mean()\n",
    "    for i,gr in enumerate(subx):\n",
    "        dfg = df[df[subcat] == gr]\n",
    "        plt.bar(x+offsets[i], dfg[val].values, width=width, \n",
    "                label=\"{} {}\".format(subcat, gr), yerr=dfg[err].values)\n",
    "    plt.xlabel(cat)\n",
    "    plt.ylabel(val)\n",
    "    plt.xticks(x, u)\n",
    "    plt.legend()\n",
    "    plt.show()\n"
   ]
  },
  {
   "cell_type": "code",
   "execution_count": 15,
   "metadata": {
    "ExecuteTime": {
     "end_time": "2020-04-06T21:01:36.960203Z",
     "start_time": "2020-04-06T21:01:36.952929Z"
    }
   },
   "outputs": [
    {
     "name": "stderr",
     "output_type": "stream",
     "text": [
      "/Users/simonelongo/anaconda3/lib/python3.7/site-packages/ipykernel_launcher.py:2: SettingWithCopyWarning: \n",
      "A value is trying to be set on a copy of a slice from a DataFrame.\n",
      "Try using .loc[row_indexer,col_indexer] = value instead\n",
      "\n",
      "See the caveats in the documentation: https://pandas.pydata.org/pandas-docs/stable/user_guide/indexing.html#returning-a-view-versus-a-copy\n",
      "  \n"
     ]
    },
    {
     "data": {
      "text/plain": [
       "{'Connecticut': 37.462500000000006,\n",
       " 'Maine': 35.00625,\n",
       " 'Massachusetts': 36.362500000000004,\n",
       " 'New Hampshire': 37.53124999999999,\n",
       " 'Rhode Island': 42.268750000000004,\n",
       " 'Vermont': 36.33124999999999,\n",
       " 'New Jersey': 33.387499999999996,\n",
       " 'New York': 33.28125,\n",
       " 'Delaware': 35.90624999999999,\n",
       " 'District of Columbia': 37.868750000000006,\n",
       " 'Maryland': 33.887499999999996,\n",
       " 'Pennsylvania': 34.0125,\n",
       " 'Virginia': 29.2375,\n",
       " 'West Virginia': 30.65625000000001,\n",
       " 'Alabama': 29.2625,\n",
       " 'Florida': 29.10625,\n",
       " 'Georgia': 30.21875,\n",
       " 'Kentucky': 27.118750000000002,\n",
       " 'Mississippi': 24.556250000000002,\n",
       " 'North Carolina': 31.643750000000004,\n",
       " 'South Carolina': 26.375,\n",
       " 'Tennessee': 27.693749999999998,\n",
       " 'Illinois': 29.400000000000006,\n",
       " 'Indiana': 29.6,\n",
       " 'Michigan': 32.493750000000006,\n",
       " 'Minnesota': 31.8625,\n",
       " 'Ohio': 29.3875,\n",
       " 'Wisconsin': 31.987500000000004,\n",
       " 'Arkansas': 28.99374999999999,\n",
       " 'Louisiana': 31.89375,\n",
       " 'New Mexico': 32.712500000000006,\n",
       " 'Oklahoma': 30.118749999999995,\n",
       " 'Texas': 28.593749999999996,\n",
       " 'Iowa': 31.6875,\n",
       " 'Kansas': 25.98125,\n",
       " 'Missouri': 28.937499999999996,\n",
       " 'Nebraska': 32.9375,\n",
       " 'Colorado': 34.9875,\n",
       " 'Montana': 27.76875,\n",
       " 'North Dakota': 35.88750000000001,\n",
       " 'South Dakota': 25.493750000000006,\n",
       " 'Utah': 26.149999999999995,\n",
       " 'Wyoming': 25.46875,\n",
       " 'Arizona': 32.300000000000004,\n",
       " 'California': 33.356249999999996,\n",
       " 'Hawaii': 34.662499999999994,\n",
       " 'Nevada': 31.137500000000003,\n",
       " 'Alaska': 26.049999999999997,\n",
       " 'Idaho': 28.99374999999999,\n",
       " 'Oregon': 33.9,\n",
       " 'Washington': 31.300000000000004,\n",
       " 'Guam': 30.000000000000004,\n",
       " 'Puerto Rico': 34.28125000000001,\n",
       " 'U.S. Virgin Islands': 20.85}"
      ]
     },
     "execution_count": 15,
     "metadata": {},
     "output_type": "execute_result"
    }
   ],
   "source": [
    "hpv = df.iloc[:,3:9]\n",
    "hpv['Average'] = df.mean(axis=1)\n",
    "dict(zip(hpv.index, hpv.Average))"
   ]
  },
  {
   "cell_type": "code",
   "execution_count": 16,
   "metadata": {
    "ExecuteTime": {
     "end_time": "2020-04-06T21:02:08.377163Z",
     "start_time": "2020-04-06T21:02:08.361874Z"
    },
    "scrolled": false
   },
   "outputs": [
    {
     "ename": "ModuleNotFoundError",
     "evalue": "No module named 'mpl_toolkits.basemap'",
     "output_type": "error",
     "traceback": [
      "\u001b[0;31m---------------------------------------------------------------------------\u001b[0m",
      "\u001b[0;31mModuleNotFoundError\u001b[0m                       Traceback (most recent call last)",
      "\u001b[0;32m<ipython-input-16-10ace6254bee>\u001b[0m in \u001b[0;36m<module>\u001b[0;34m\u001b[0m\n\u001b[1;32m      3\u001b[0m \u001b[0;32mimport\u001b[0m \u001b[0mnumpy\u001b[0m \u001b[0;32mas\u001b[0m \u001b[0mnp\u001b[0m\u001b[0;34m\u001b[0m\u001b[0;34m\u001b[0m\u001b[0m\n\u001b[1;32m      4\u001b[0m \u001b[0;32mimport\u001b[0m \u001b[0mmatplotlib\u001b[0m\u001b[0;34m.\u001b[0m\u001b[0mpyplot\u001b[0m \u001b[0;32mas\u001b[0m \u001b[0mplt\u001b[0m\u001b[0;34m\u001b[0m\u001b[0;34m\u001b[0m\u001b[0m\n\u001b[0;32m----> 5\u001b[0;31m \u001b[0;32mfrom\u001b[0m \u001b[0mmpl_toolkits\u001b[0m\u001b[0;34m.\u001b[0m\u001b[0mbasemap\u001b[0m \u001b[0;32mimport\u001b[0m \u001b[0mBasemap\u001b[0m \u001b[0;32mas\u001b[0m \u001b[0mBasemap\u001b[0m\u001b[0;34m\u001b[0m\u001b[0;34m\u001b[0m\u001b[0m\n\u001b[0m\u001b[1;32m      6\u001b[0m \u001b[0;32mfrom\u001b[0m \u001b[0mmatplotlib\u001b[0m\u001b[0;34m.\u001b[0m\u001b[0mcolors\u001b[0m \u001b[0;32mimport\u001b[0m \u001b[0mrgb2hex\u001b[0m\u001b[0;34m\u001b[0m\u001b[0;34m\u001b[0m\u001b[0m\n\u001b[1;32m      7\u001b[0m \u001b[0;32mfrom\u001b[0m \u001b[0mmatplotlib\u001b[0m\u001b[0;34m.\u001b[0m\u001b[0mpatches\u001b[0m \u001b[0;32mimport\u001b[0m \u001b[0mPolygon\u001b[0m\u001b[0;34m\u001b[0m\u001b[0;34m\u001b[0m\u001b[0m\n",
      "\u001b[0;31mModuleNotFoundError\u001b[0m: No module named 'mpl_toolkits.basemap'"
     ]
    }
   ],
   "source": [
    "#Ref: https://stackoverflow.com/questions/39742305/how-to-use-basemap-python-to-plot-us-with-50-states\n",
    "\n",
    "import numpy as np\n",
    "import matplotlib.pyplot as plt\n",
    "from mpl_toolkits.basemap import Basemap as Basemap\n",
    "from matplotlib.colors import rgb2hex\n",
    "from matplotlib.patches import Polygon\n",
    "# Lambert Conformal map of lower 48 states.\n",
    "m = Basemap(llcrnrlon=-119,llcrnrlat=22,urcrnrlon=-64,urcrnrlat=49,\n",
    "        projection='lcc',lat_1=33,lat_2=45,lon_0=-95)\n",
    "# draw state boundaries.\n",
    "# data from U.S Census Bureau\n",
    "# http://www.census.gov/geo/www/cob/st2000.html\n",
    "shp_info = m.readshapefile('st99_d00','states',drawbounds=True)\n",
    "# population density by state from\n",
    "# http://en.wikipedia.org/wiki/List_of_U.S._states_by_population_density\n",
    "popdensity = dict(zip(hpv.index, hpv.Average))\n",
    "# choose a color for each state based on population density.\n",
    "colors={}\n",
    "statenames=[]\n",
    "cmap = plt.cm.hot # use 'hot' colormap\n",
    "vmin = 0; vmax = 450 # set range.\n",
    "for shapedict in m.states_info:\n",
    "    statename = shapedict['NAME']\n",
    "    # skip DC and Puerto Rico.\n",
    "    if statename not in ['District of Columbia','Puerto Rico']:\n",
    "        pop = popdensity[statename]\n",
    "        # calling colormap with value between 0 and 1 returns\n",
    "        # rgba value.  Invert color range (hot colors are high\n",
    "        # population), take sqrt root to spread out colors more.\n",
    "        colors[statename] = cmap(1.-np.sqrt((pop-vmin)/(vmax-vmin)))[:3]\n",
    "    statenames.append(statename)\n",
    "# cycle through state names, color each one.\n",
    "ax = plt.gca() # get current axes instance\n",
    "for nshape,seg in enumerate(m.states):\n",
    "    # skip DC and Puerto Rico.\n",
    "    if statenames[nshape] not in ['District of Columbia','Puerto Rico']:\n",
    "        color = rgb2hex(colors[statenames[nshape]]) \n",
    "        poly = Polygon(seg,facecolor=color,edgecolor=color)\n",
    "        ax.add_patch(poly)\n",
    "plt.title('Filling State Polygons by Population Density')\n",
    "plt.show()"
   ]
  },
  {
   "cell_type": "code",
   "execution_count": null,
   "metadata": {},
   "outputs": [],
   "source": []
  }
 ],
 "metadata": {
  "kernelspec": {
   "display_name": "Python 3",
   "language": "python",
   "name": "python3"
  },
  "language_info": {
   "codemirror_mode": {
    "name": "ipython",
    "version": 3
   },
   "file_extension": ".py",
   "mimetype": "text/x-python",
   "name": "python",
   "nbconvert_exporter": "python",
   "pygments_lexer": "ipython3",
   "version": "3.7.4"
  },
  "varInspector": {
   "cols": {
    "lenName": 16,
    "lenType": 16,
    "lenVar": 40
   },
   "kernels_config": {
    "python": {
     "delete_cmd_postfix": "",
     "delete_cmd_prefix": "del ",
     "library": "var_list.py",
     "varRefreshCmd": "print(var_dic_list())"
    },
    "r": {
     "delete_cmd_postfix": ") ",
     "delete_cmd_prefix": "rm(",
     "library": "var_list.r",
     "varRefreshCmd": "cat(var_dic_list()) "
    }
   },
   "types_to_exclude": [
    "module",
    "function",
    "builtin_function_or_method",
    "instance",
    "_Feature"
   ],
   "window_display": false
  }
 },
 "nbformat": 4,
 "nbformat_minor": 4
}
